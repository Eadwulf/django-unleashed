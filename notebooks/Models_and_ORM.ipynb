{
 "cells": [
  {
   "cell_type": "code",
   "execution_count": 1,
   "id": "dc259638",
   "metadata": {},
   "outputs": [],
   "source": [
    "import os\n",
    "import django\n",
    "os.environ.setdefault('DJANGO_SETTINGS_MODULE', 'rest.settings')\n",
    "os.environ[\"DJANGO_ALLOW_ASYNC_UNSAFE\"] = \"true\"\n",
    "django.setup()\n",
    "    \n",
    "\n",
    "from organizer.models import Startup, Tag, NewsLink\n",
    "from blog.models import Post"
   ]
  },
  {
   "cell_type": "code",
   "execution_count": 20,
   "id": "8c9daa9b",
   "metadata": {},
   "outputs": [],
   "source": [
    "def create_tag(name, slug):\n",
    "    try:\n",
    "        tag = Tag.objects.get(slug__iexact=slug)\n",
    "        return f'Tag \"{tag}\" found'\n",
    "    except Tag.DoesNotExist:\n",
    "        tag = Tag.objects.create(name=name, slug=slug)\n",
    "        tag.save()\n",
    "        return f'Tag \"{tag}\" created'"
   ]
  },
  {
   "cell_type": "code",
   "execution_count": 30,
   "id": "ed4731d0",
   "metadata": {},
   "outputs": [
    {
     "data": {
      "text/plain": [
       "<QuerySet [<Tag: Word>]>"
      ]
     },
     "execution_count": 30,
     "metadata": {},
     "output_type": "execute_result"
    }
   ],
   "source": [
    "tag = Tag.objects.get(name__iexact='word')\n",
    "\n",
    "wordphilia = Startup.objects.get(name__icontains='word')\n",
    "wordphilia.tags.add(tag)\n",
    "\n",
    "wordphilia.tags.all()"
   ]
  },
  {
   "cell_type": "code",
   "execution_count": 31,
   "id": "0e9e47eb",
   "metadata": {},
   "outputs": [],
   "source": [
    "post = Post.objects.get(slug__iexact='word-philia')\n",
    "post.tags.add(tag)\n",
    "post.save()"
   ]
  },
  {
   "cell_type": "code",
   "execution_count": 33,
   "id": "b13aa3c5",
   "metadata": {
    "scrolled": true
   },
   "outputs": [
    {
     "data": {
      "text/plain": [
       "<QuerySet [<Tag: Word>]>"
      ]
     },
     "execution_count": 33,
     "metadata": {},
     "output_type": "execute_result"
    }
   ],
   "source": [
    "Post.objects.get(slug__icontains='word').tags.all()"
   ]
  },
  {
   "cell_type": "code",
   "execution_count": null,
   "id": "f01905a6",
   "metadata": {},
   "outputs": [],
   "source": [
    "\n",
    "\n",
    "\n",
    "# This space have been intentionally left \"blank\".\n",
    "\n",
    "\n"
   ]
  },
  {
   "cell_type": "code",
   "execution_count": 3,
   "id": "eb678a21",
   "metadata": {},
   "outputs": [],
   "source": [
    "# TagForm tests\n",
    "\n",
    "from organizer.forms import TagForm"
   ]
  },
  {
   "cell_type": "code",
   "execution_count": null,
   "id": "1157bd9e",
   "metadata": {},
   "outputs": [],
   "source": []
  }
 ],
 "metadata": {
  "kernelspec": {
   "display_name": "Django Shell-Plus",
   "language": "python",
   "name": "django_extensions"
  },
  "language_info": {
   "codemirror_mode": {
    "name": "ipython",
    "version": 3
   },
   "file_extension": ".py",
   "mimetype": "text/x-python",
   "name": "python",
   "nbconvert_exporter": "python",
   "pygments_lexer": "ipython3",
   "version": "3.9.9"
  }
 },
 "nbformat": 4,
 "nbformat_minor": 5
}
