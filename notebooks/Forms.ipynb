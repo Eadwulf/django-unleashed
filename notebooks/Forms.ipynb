{
 "cells": [
  {
   "cell_type": "code",
   "execution_count": 1,
   "id": "518bb31c",
   "metadata": {},
   "outputs": [],
   "source": [
    "# Django Setup\n",
    "\n",
    "import os\n",
    "import django\n",
    "os.environ.setdefault('DJANGO_SETTINGS_MODULE', 'rest.settings')\n",
    "os.environ[\"DJANGO_ALLOW_ASYNC_UNSAFE\"] = \"true\"\n",
    "django.setup()\n"
   ]
  },
  {
   "cell_type": "code",
   "execution_count": 2,
   "id": "cf2d2c7b",
   "metadata": {},
   "outputs": [],
   "source": [
    "# Models' Import\n",
    "\n",
    "from organizer.models import Startup, Tag, NewsLink\n",
    "from blog.models import Post\n"
   ]
  },
  {
   "cell_type": "code",
   "execution_count": 4,
   "id": "a8edeb24",
   "metadata": {},
   "outputs": [],
   "source": [
    "# Forms' Import\n",
    "from organizer.forms import TagForm\n"
   ]
  },
  {
   "cell_type": "code",
   "execution_count": 13,
   "id": "95b1d78b",
   "metadata": {},
   "outputs": [],
   "source": [
    "# Summit not valid data\n",
    "error_form = TagForm({'name': None, 'slug': 'error slug'})\n"
   ]
  },
  {
   "cell_type": "code",
   "execution_count": 10,
   "id": "a35feccb",
   "metadata": {},
   "outputs": [
    {
     "data": {
      "text/plain": [
       "True"
      ]
     },
     "execution_count": 10,
     "metadata": {},
     "output_type": "execute_result"
    }
   ],
   "source": [
    "# Check if the data is bound\n",
    "    # PS: bound to what?\n",
    "error_form.is_bound\n"
   ]
  },
  {
   "cell_type": "code",
   "execution_count": 11,
   "id": "64a5d68e",
   "metadata": {},
   "outputs": [
    {
     "data": {
      "text/plain": [
       "False"
      ]
     },
     "execution_count": 11,
     "metadata": {},
     "output_type": "execute_result"
    }
   ],
   "source": [
    "# Check is the data is valid\n",
    "error_form.is_valid()\n"
   ]
  },
  {
   "cell_type": "code",
   "execution_count": 12,
   "id": "034788a0",
   "metadata": {},
   "outputs": [
    {
     "data": {
      "text/plain": [
       "{'name': ['This field is required.'],\n",
       " 'slug': ['Enter a valid “slug” consisting of letters, numbers, underscores or hyphens.']}"
      ]
     },
     "execution_count": 12,
     "metadata": {},
     "output_type": "execute_result"
    }
   ],
   "source": [
    "# Check the errors found in the form while running \"is_valid()\" method.\n",
    "error_form.errors"
   ]
  },
  {
   "cell_type": "code",
   "execution_count": 15,
   "id": "e7aeaf76",
   "metadata": {},
   "outputs": [
    {
     "data": {
      "text/plain": [
       "{'name': [ValidationError(['This field is required.'])],\n",
       " 'slug': [ValidationError(['Enter a valid “slug” consisting of letters, numbers, underscores or hyphens.'])]}"
      ]
     },
     "execution_count": 15,
     "metadata": {},
     "output_type": "execute_result"
    }
   ],
   "source": [
    "# Check the errors with errors.as_date() method\n",
    "error_form.errors.as_data()"
   ]
  },
  {
   "cell_type": "code",
   "execution_count": 21,
   "id": "ce2cee9b",
   "metadata": {},
   "outputs": [],
   "source": [
    "# Create a TagForm with max_length errors\n",
    "tagForm_Error = TagForm(\n",
    "    {'name': 'this name will probably end up being longer than 31 characters.', 'slug': 'a_lot-of_words'}\n",
    ")\n"
   ]
  },
  {
   "cell_type": "code",
   "execution_count": 18,
   "id": "7093b7c3",
   "metadata": {},
   "outputs": [
    {
     "data": {
      "text/plain": [
       "True"
      ]
     },
     "execution_count": 18,
     "metadata": {},
     "output_type": "execute_result"
    }
   ],
   "source": [
    "tagForm_Error.is_bound"
   ]
  },
  {
   "cell_type": "code",
   "execution_count": 19,
   "id": "0b4f5270",
   "metadata": {},
   "outputs": [
    {
     "data": {
      "text/plain": [
       "False"
      ]
     },
     "execution_count": 19,
     "metadata": {},
     "output_type": "execute_result"
    }
   ],
   "source": [
    "tagForm_Error.is_valid()"
   ]
  },
  {
   "cell_type": "code",
   "execution_count": 22,
   "id": "c26caa08",
   "metadata": {},
   "outputs": [
    {
     "data": {
      "text/plain": [
       "{'name': [ValidationError(['Ensure this value has at most 31 characters (it has 63).'])]}"
      ]
     },
     "execution_count": 22,
     "metadata": {},
     "output_type": "execute_result"
    }
   ],
   "source": [
    "tagForm_Error.errors.as_data()"
   ]
  },
  {
   "cell_type": "code",
   "execution_count": 24,
   "id": "d68aae04",
   "metadata": {},
   "outputs": [
    {
     "data": {
      "text/plain": [
       "{'slug': 'a_lot-of_words'}"
      ]
     },
     "execution_count": 24,
     "metadata": {},
     "output_type": "execute_result"
    }
   ],
   "source": [
    "# Access valid data in tagForm_Error\n",
    "tagForm_Error.cleaned_data"
   ]
  }
 ],
 "metadata": {
  "kernelspec": {
   "display_name": "Django Shell-Plus",
   "language": "python",
   "name": "django_extensions"
  },
  "language_info": {
   "codemirror_mode": {
    "name": "ipython",
    "version": 3
   },
   "file_extension": ".py",
   "mimetype": "text/x-python",
   "name": "python",
   "nbconvert_exporter": "python",
   "pygments_lexer": "ipython3",
   "version": "3.9.9"
  }
 },
 "nbformat": 4,
 "nbformat_minor": 5
}
